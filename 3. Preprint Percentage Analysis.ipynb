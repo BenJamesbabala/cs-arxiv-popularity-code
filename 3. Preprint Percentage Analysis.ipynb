{
 "cells": [
  {
   "cell_type": "markdown",
   "metadata": {
    "toc": "true"
   },
   "source": [
    " # Table of Contents\n",
    "<div class=\"toc\" style=\"margin-top: 1em;\"><ul class=\"toc-item\" id=\"toc-level0\"><li><span><a href=\"http://localhost:8888/notebooks/3.%20Preprint%20Percentage%20Analysis.ipynb#Data-Loading-and-Preprocessing\" data-toc-modified-id=\"Data-Loading-and-Preprocessing-1\"><span class=\"toc-item-num\">1&nbsp;&nbsp;</span>Data Loading and Preprocessing</a></span></li><li><span><a href=\"http://localhost:8888/notebooks/3.%20Preprint%20Percentage%20Analysis.ipynb#Main-Plot:-Percentage-of-Prepublications-by-Year-and-Area\" data-toc-modified-id=\"Main-Plot:-Percentage-of-Prepublications-by-Year-and-Area-2\"><span class=\"toc-item-num\">2&nbsp;&nbsp;</span>Main Plot: Percentage of Prepublications by Year and Area</a></span></li><li><span><a href=\"http://localhost:8888/notebooks/3.%20Preprint%20Percentage%20Analysis.ipynb#For-each-venue,-prepublication-percentage-in-2017-(dotplot-grouped-by-area)\" data-toc-modified-id=\"For-each-venue,-prepublication-percentage-in-2017-(dotplot-grouped-by-area)-3\"><span class=\"toc-item-num\">3&nbsp;&nbsp;</span>For each venue, prepublication percentage in 2017 (dotplot grouped by area)</a></span></li><li><span><a href=\"http://localhost:8888/notebooks/3.%20Preprint%20Percentage%20Analysis.ipynb#Was-arxiv-submission-before-or-after-blind-review?\" data-toc-modified-id=\"Was-arxiv-submission-before-or-after-blind-review?-4\"><span class=\"toc-item-num\">4&nbsp;&nbsp;</span>Was arxiv submission before or after blind review?</a></span></li><li><span><a href=\"http://localhost:8888/notebooks/3.%20Preprint%20Percentage%20Analysis.ipynb#Table-of-all-areas-and-venues-considered\" data-toc-modified-id=\"Table-of-all-areas-and-venues-considered-5\"><span class=\"toc-item-num\">5&nbsp;&nbsp;</span>Table of all areas and venues considered</a></span></li><li><span><a href=\"http://localhost:8888/notebooks/3.%20Preprint%20Percentage%20Analysis.ipynb#Total-number-of-conferences-and-areas-considered\" data-toc-modified-id=\"Total-number-of-conferences-and-areas-considered-6\"><span class=\"toc-item-num\">6&nbsp;&nbsp;</span>Total number of conferences and areas considered</a></span></li></ul></div>"
   ]
  },
  {
   "cell_type": "markdown",
   "metadata": {},
   "source": [
    "This notebook generates all of the results from the paper\n",
    "\n",
    " Sutton and Gong. Popularity of Arxiv Among Computer Scientists. Arxiv Pre-print. 2017.\n",
    "  \n",
    "Before running this notebook, you need to have the collected and preprocessed data in the `generated/` subdirectory. A version of this data is available for download from the paper web site:\n",
    "\n",
    "  [http://groups.inf.ed.ac.uk/cup/csarxiv/](http://groups.inf.ed.ac.uk/cup/csarxiv/)\n",
    "  \n",
    "The main analysis is contained in the notebook below. If you want to drill down futher, you should read these other notebooks:\n",
    "\n",
    " * Notebook to [download and preprocess](0.%20Download%20and%20Preprocess%20Data.ipynb) data from Arxiv and DBLP\n",
    " * Notebook to [exploratory analysis]() to sanity check processed data\n",
    " * Notebook to [validate record linkage]() between Arxiv and DBLP\n",
    " "
   ]
  },
  {
   "cell_type": "markdown",
   "metadata": {},
   "source": [
    "# Data Loading and Preprocessing"
   ]
  },
  {
   "cell_type": "code",
   "execution_count": 1,
   "metadata": {},
   "outputs": [
    {
     "name": "stderr",
     "output_type": "stream",
     "text": [
      "/Users/csutton/anaconda3/lib/python3.6/site-packages/matplotlib/__init__.py:1405: UserWarning: \n",
      "This call to matplotlib.use() has no effect because the backend has already\n",
      "been chosen; matplotlib.use() must be called *before* pylab, matplotlib.pyplot,\n",
      "or matplotlib.backends is imported for the first time.\n",
      "\n",
      "  warnings.warn(_use_error_msg)\n"
     ]
    }
   ],
   "source": [
    "%matplotlib inline\n",
    "import pandas as pd\n",
    "import pandas_profiling\n",
    "import numpy as np\n",
    "import matplotlib\n",
    "import matplotlib.pyplot as plt\n",
    "import glob\n",
    "import json\n",
    "import colorcet as cc\n",
    "\n",
    "from dblp import config"
   ]
  },
  {
   "cell_type": "code",
   "execution_count": 2,
   "metadata": {},
   "outputs": [
    {
     "data": {
      "text/plain": [
       "['generated/matching/all-papers-matched-titleauthor.json',\n",
       " 'generated/matching/bak',\n",
       " 'generated/matching/small-papers.json']"
      ]
     },
     "execution_count": 2,
     "metadata": {},
     "output_type": "execute_result"
    }
   ],
   "source": [
    " glob.glob ('generated/matching/*')"
   ]
  },
  {
   "cell_type": "code",
   "execution_count": 3,
   "metadata": {
    "collapsed": true
   },
   "outputs": [],
   "source": [
    "matched_file = 'generated/matching/all-papers-matched-titleauthor.json'"
   ]
  },
  {
   "cell_type": "code",
   "execution_count": 4,
   "metadata": {
    "collapsed": true
   },
   "outputs": [],
   "source": [
    "with open (matched_file) as f:\n",
    "    matches = json.load (f)\n",
    "    \n",
    "records = [ {'area': d['area'], 'venue': d['venue'], 'year': d['year'], 'preprint': int('arxiv' in d), 'url': d.get('url', None) } for d in matches ]\n",
    "df = pd.DataFrame (records)"
   ]
  },
  {
   "cell_type": "code",
   "execution_count": 5,
   "metadata": {},
   "outputs": [
    {
     "data": {
      "text/html": [
       "<div>\n",
       "<style>\n",
       "    .dataframe thead tr:only-child th {\n",
       "        text-align: right;\n",
       "    }\n",
       "\n",
       "    .dataframe thead th {\n",
       "        text-align: left;\n",
       "    }\n",
       "\n",
       "    .dataframe tbody tr th {\n",
       "        vertical-align: top;\n",
       "    }\n",
       "</style>\n",
       "<table border=\"1\" class=\"dataframe\">\n",
       "  <thead>\n",
       "    <tr style=\"text-align: right;\">\n",
       "      <th></th>\n",
       "      <th>area</th>\n",
       "      <th>preprint</th>\n",
       "      <th>url</th>\n",
       "      <th>venue</th>\n",
       "      <th>year</th>\n",
       "    </tr>\n",
       "  </thead>\n",
       "  <tbody>\n",
       "    <tr>\n",
       "      <th>0</th>\n",
       "      <td>bio</td>\n",
       "      <td>0</td>\n",
       "      <td>db/journals/bioinformatics/bioinformatics29.ht...</td>\n",
       "      <td>ISMB</td>\n",
       "      <td>2013</td>\n",
       "    </tr>\n",
       "    <tr>\n",
       "      <th>1</th>\n",
       "      <td>bio</td>\n",
       "      <td>0</td>\n",
       "      <td>db/journals/bioinformatics/bioinformatics30.ht...</td>\n",
       "      <td>ISMB</td>\n",
       "      <td>2014</td>\n",
       "    </tr>\n",
       "    <tr>\n",
       "      <th>2</th>\n",
       "      <td>bio</td>\n",
       "      <td>0</td>\n",
       "      <td>db/journals/bioinformatics/bioinformatics26.ht...</td>\n",
       "      <td>ISMB</td>\n",
       "      <td>2010</td>\n",
       "    </tr>\n",
       "    <tr>\n",
       "      <th>3</th>\n",
       "      <td>bio</td>\n",
       "      <td>0</td>\n",
       "      <td>db/journals/bioinformatics/bioinformatics25.ht...</td>\n",
       "      <td>ISMB</td>\n",
       "      <td>2009</td>\n",
       "    </tr>\n",
       "    <tr>\n",
       "      <th>4</th>\n",
       "      <td>bio</td>\n",
       "      <td>0</td>\n",
       "      <td>db/journals/bioinformatics/bioinformatics29.ht...</td>\n",
       "      <td>ISMB</td>\n",
       "      <td>2013</td>\n",
       "    </tr>\n",
       "  </tbody>\n",
       "</table>\n",
       "</div>"
      ],
      "text/plain": [
       "  area  preprint                                                url venue  \\\n",
       "0  bio         0  db/journals/bioinformatics/bioinformatics29.ht...  ISMB   \n",
       "1  bio         0  db/journals/bioinformatics/bioinformatics30.ht...  ISMB   \n",
       "2  bio         0  db/journals/bioinformatics/bioinformatics26.ht...  ISMB   \n",
       "3  bio         0  db/journals/bioinformatics/bioinformatics25.ht...  ISMB   \n",
       "4  bio         0  db/journals/bioinformatics/bioinformatics29.ht...  ISMB   \n",
       "\n",
       "   year  \n",
       "0  2013  \n",
       "1  2014  \n",
       "2  2010  \n",
       "3  2009  \n",
       "4  2013  "
      ]
     },
     "execution_count": 5,
     "metadata": {},
     "output_type": "execute_result"
    }
   ],
   "source": [
    "df.head()"
   ]
  },
  {
   "cell_type": "markdown",
   "metadata": {},
   "source": [
    "Some modifications to how we consider the venues before analysis.\n",
    "\n",
    "CSrankings.org treats KDD and ICML/NIPS as being part of the same research area. For our analysis, we do not want to do this, as the data mining and machine learning communities seem to have different norms regarding prepublication. We also exclude bioinformatics from our analysis, as we expect that many bioinformatics preprints will appear on bioRxiv rather than Arxiv.org."
   ]
  },
  {
   "cell_type": "code",
   "execution_count": 6,
   "metadata": {
    "collapsed": true
   },
   "outputs": [],
   "source": [
    "df.loc[df[\"venue\"] == \"KDD\", \"area\"] = \"mining\"\n",
    "df.loc[df[\"venue\"] == \"ICML\", \"area\"] = \"ml\"\n",
    "df.loc[df[\"venue\"] == \"NIPS\", \"area\"] = \"ml\"\n",
    "df = df[df.area != \"bio\"]"
   ]
  },
  {
   "cell_type": "markdown",
   "metadata": {},
   "source": [
    "It will help to have the inverse map from venues to areas."
   ]
  },
  {
   "cell_type": "code",
   "execution_count": 7,
   "metadata": {
    "collapsed": true
   },
   "outputs": [],
   "source": [
    "v2a = dict()\n",
    "a2v = dict()\n",
    "for v,a in zip(df[\"venue\"], df[\"area\"]):\n",
    "    if (v in v2a) and (v2a[v] != a):\n",
    "        print (\"Error: multiply defined {} and {} both go to {}\".format (v, a, v2a[v]))\n",
    "    v2a[v] = a\n",
    "    \n",
    "    venues = a2v.get(a, [])\n",
    "    if v not in venues:\n",
    "        venues.append(v)\n",
    "        a2v[a] = venues"
   ]
  },
  {
   "cell_type": "markdown",
   "metadata": {},
   "source": [
    "The data frame that we have above contains 1 row for each publication that we consider. For analysis we'll need to aggregate that by year, by research area, and by venue."
   ]
  },
  {
   "cell_type": "code",
   "execution_count": 8,
   "metadata": {},
   "outputs": [
    {
     "name": "stderr",
     "output_type": "stream",
     "text": [
      "/Users/csutton/anaconda3/lib/python3.6/site-packages/pandas/core/groupby.py:4036: FutureWarning: using a dict with renaming is deprecated and will be removed in a future version\n",
      "  return super(DataFrameGroupBy, self).aggregate(arg, *args, **kwargs)\n"
     ]
    }
   ],
   "source": [
    "year_df = df.groupby(['year'], as_index=False).agg({ 'preprint':\n",
    "                      { 'total': 'count',\n",
    "                       'matched': 'sum'\n",
    "                  } })\n",
    "area_df = df.groupby(['area', 'year'], as_index=False).agg({ 'preprint':\n",
    "                      { 'total': 'count',\n",
    "                       'matched': 'sum'\n",
    "                  } })\n",
    "venue_df = df.groupby(['venue', 'year'], as_index=False).agg({ 'preprint':\n",
    "                      { 'total': 'count',\n",
    "                       'matched': 'sum'\n",
    "                  } })\n",
    "\n",
    "\n",
    "area_df = area_df.set_index(\"area\")\n",
    "venue_df = venue_df.set_index(\"venue\")\n",
    "\n",
    "area_df['On Arxiv (%)'] = area_df['preprint', 'matched'] / area_df['preprint', 'total']\n",
    "venue_df['On Arxiv (%)'] = venue_df['preprint', 'matched'] / venue_df['preprint', 'total']\n",
    "year_df['On Arxiv (%)'] = year_df['preprint', 'matched'] / year_df['preprint', 'total']\n",
    "\n",
    "area_df.columns = [ \"Year\", \"Papers\", \"On Arxiv\", \"On Arxiv (%)\"  ]\n",
    "venue_df.columns = [ \"Year\", \"Papers\", \"On Arxiv\", \"On Arxiv (%)\"  ]\n",
    "year_df.columns = [ \"Year\", \"Papers\", \"On Arxiv\", \"On Arxiv (%)\"  ]\n"
   ]
  },
  {
   "cell_type": "markdown",
   "metadata": {},
   "source": [
    "For convenience, create smaller data frames that have the most recent year."
   ]
  },
  {
   "cell_type": "code",
   "execution_count": 9,
   "metadata": {
    "collapsed": true
   },
   "outputs": [],
   "source": [
    "area16_df = area_df[area_df.Year == 2016]\n",
    "area17_df = area_df[area_df.Year == 2017]\n",
    "venue17_df = venue_df[venue_df.Year == 2017]"
   ]
  },
  {
   "cell_type": "code",
   "execution_count": 10,
   "metadata": {},
   "outputs": [
    {
     "data": {
      "image/png": "[encoded data removed]",
      "text/plain": [
       "<matplotlib.figure.Figure at 0x10d67dda0>"
      ]
     },
     "metadata": {},
     "output_type": "display_data"
    }
   ],
   "source": [
    "groups = area_df.groupby('area')\n",
    "labels = []\n",
    "colors = plt.cm.tab20(np.linspace(0, 1, len(groups)))\n",
    "\n",
    "i = 0\n",
    "for grp,df0 in groups:\n",
    "    plt.plot(df0['Year'], df0['Papers'], linewidth=2.0, linestyle='-', color=colors[i])\n",
    "    i += 1\n",
    "    labels.append(grp)\n",
    "ax = plt.gca()\n",
    "ax.legend(labels, bbox_to_anchor=(1.3,1.1))\n",
    "plt.show()\n"
   ]
  },
  {
   "cell_type": "markdown",
   "metadata": {},
   "source": [
    "# Main Plot: Percentage of Prepublications by Year and Area\n",
    "\n",
    "There are going to be a lot of lines in the next plot, so we'll go to a lot of effort to set up the colormaps intelligently. We'll colour the top 10 research areas differently from the rest."
   ]
  },
  {
   "cell_type": "code",
   "execution_count": 11,
   "metadata": {
    "collapsed": true
   },
   "outputs": [],
   "source": [
    "Ntop = 9\n",
    "areas_sorted = area16_df.sort_values(\"On Arxiv (%)\", ascending=False)\n",
    "top10_areas = areas_sorted.index[0:Ntop]\n",
    "next10_areas = areas_sorted.index[Ntop:(2*Ntop)]\n",
    "other_areas = areas_sorted.index[(2*Ntop):len(areas_sorted.index)]"
   ]
  },
  {
   "cell_type": "markdown",
   "metadata": {},
   "source": [
    "Set up the colormaps so that the lines for the top 10 areas are multicoloured, and the others are in grayscale."
   ]
  },
  {
   "cell_type": "code",
   "execution_count": 12,
   "metadata": {
    "collapsed": true
   },
   "outputs": [],
   "source": [
    "top_colors = plt.cm.Set1(np.linspace(0,1, len(top10_areas)))\n",
    "next_colors = plt.cm.Set2(np.linspace(0.25,1, len(next10_areas)))\n",
    "other_colors = plt.cm.Pastel1(np.linspace(0,0.25, len(other_areas)))\n",
    "area_colors = dict ( list(zip(top10_areas, top_colors)) + list(zip(next10_areas, next_colors)) + list(zip(other_areas, other_colors))  )\n",
    "\n",
    "area_styles = dict ()\n",
    "for area in top10_areas: area_styles[area] = '-'\n",
    "for area in next10_areas: area_styles[area] = 'dashed'\n",
    "for area in other_areas: area_styles[area] = 'dotted'"
   ]
  },
  {
   "cell_type": "code",
   "execution_count": 13,
   "metadata": {},
   "outputs": [
    {
     "data": {
      "text/plain": [
       "{'act': '-',\n",
       " 'ai': '-',\n",
       " 'arch': 'dotted',\n",
       " 'bed': 'dotted',\n",
       " 'chi': 'dotted',\n",
       " 'comm': 'dashed',\n",
       " 'crypt': 'dashed',\n",
       " 'da': 'dotted',\n",
       " 'graph': 'dotted',\n",
       " 'hpc': 'dashed',\n",
       " 'ir': '-',\n",
       " 'log': '-',\n",
       " 'metrics': '-',\n",
       " 'mining': '-',\n",
       " 'ml': '-',\n",
       " 'mobile': 'dashed',\n",
       " 'mod': 'dashed',\n",
       " 'nlp': '-',\n",
       " 'ops': 'dotted',\n",
       " 'plan': 'dashed',\n",
       " 'robotics': 'dashed',\n",
       " 'sec': 'dashed',\n",
       " 'soft': 'dashed',\n",
       " 'vis': 'dotted',\n",
       " 'vision': '-'}"
      ]
     },
     "execution_count": 13,
     "metadata": {},
     "output_type": "execute_result"
    }
   ],
   "source": [
    "area_styles"
   ]
  },
  {
   "cell_type": "code",
   "execution_count": 14,
   "metadata": {},
   "outputs": [
    {
     "data": {
      "image/png": "[encoded data removed]",
      "text/plain": [
       "<matplotlib.figure.Figure at 0x11cfccda0>"
      ]
     },
     "metadata": {},
     "output_type": "display_data"
    }
   ],
   "source": [
    "for grp,df0 in area_df.groupby('area'):\n",
    "    plt.plot(df0['Year'], df0[\"On Arxiv (%)\"], linewidth=2.0, linestyle=area_styles[grp], color=area_colors[grp], label=config.labeldict[grp])\n",
    "\n",
    "plt.plot(year_df['Year'], year_df[\"On Arxiv (%)\"], linewidth=3.5, color='black', label=\"OVERALL\")\n",
    "\n",
    "ax = plt.gca()\n",
    "ax.legend(bbox_to_anchor=(2.15,0.975), ncol=2)\n",
    "plt.savefig(\"figures/arxiv_pct_by_area.pdf\", format=\"pdf\", bbox_inches=\"tight\")\n",
    "plt.savefig(\"figures/arxiv_pct_by_area.png\", format=\"png\", bbox_inches=\"tight\", dpi=600)\n",
    "plt.show()"
   ]
  },
  {
   "cell_type": "markdown",
   "metadata": {},
   "source": [
    "The clear 2012 outlier in the above graph is databases:"
   ]
  },
  {
   "cell_type": "code",
   "execution_count": 15,
   "metadata": {},
   "outputs": [
    {
     "name": "stdout",
     "output_type": "stream",
     "text": [
      "      Year  Papers  On Arxiv  On Arxiv (%)\n",
      "area                                      \n",
      "mod   2007     205         1      0.004878\n",
      "mod   2008     225         5      0.022222\n",
      "mod   2009     211         5      0.023697\n",
      "mod   2010     241         7      0.029046\n",
      "mod   2011     228        56      0.245614\n",
      "mod   2012     199       122      0.613065\n",
      "mod   2013     255        13      0.050980\n",
      "mod   2014     282        24      0.085106\n",
      "mod   2015     300        28      0.093333\n",
      "mod   2016     271        37      0.136531\n",
      "mod   2017     222        37      0.166667\n"
     ]
    }
   ],
   "source": [
    "for grp,df0 in area_df.groupby('area'):\n",
    "    if grp == \"mod\":\n",
    "        print (df0)"
   ]
  },
  {
   "cell_type": "markdown",
   "metadata": {},
   "source": [
    "In 2012, we seem to have both many fewer databases papers in our arxiv than in other years, and an unusally high number of matched papers. To see why that is, let's drill down to the individual venues.\n",
    "\n",
    "First, SIGMOD 2012 has about 30 fewer accepted papers than the surrounding years. Going back to DBLP seems to indicate that this is accurate and not an artifact of our processing."
   ]
  },
  {
   "cell_type": "code",
   "execution_count": 16,
   "metadata": {},
   "outputs": [
    {
     "data": {
      "text/html": [
       "<div>\n",
       "<style>\n",
       "    .dataframe thead tr:only-child th {\n",
       "        text-align: right;\n",
       "    }\n",
       "\n",
       "    .dataframe thead th {\n",
       "        text-align: left;\n",
       "    }\n",
       "\n",
       "    .dataframe tbody tr th {\n",
       "        vertical-align: top;\n",
       "    }\n",
       "</style>\n",
       "<table border=\"1\" class=\"dataframe\">\n",
       "  <thead>\n",
       "    <tr style=\"text-align: right;\">\n",
       "      <th></th>\n",
       "      <th>Year</th>\n",
       "      <th>Papers</th>\n",
       "      <th>On Arxiv</th>\n",
       "      <th>On Arxiv (%)</th>\n",
       "    </tr>\n",
       "    <tr>\n",
       "      <th>venue</th>\n",
       "      <th></th>\n",
       "      <th></th>\n",
       "      <th></th>\n",
       "      <th></th>\n",
       "    </tr>\n",
       "  </thead>\n",
       "  <tbody>\n",
       "    <tr>\n",
       "      <th>SIGMOD</th>\n",
       "      <td>2007</td>\n",
       "      <td>88</td>\n",
       "      <td>1</td>\n",
       "      <td>0.011364</td>\n",
       "    </tr>\n",
       "    <tr>\n",
       "      <th>SIGMOD</th>\n",
       "      <td>2008</td>\n",
       "      <td>101</td>\n",
       "      <td>1</td>\n",
       "      <td>0.009901</td>\n",
       "    </tr>\n",
       "    <tr>\n",
       "      <th>SIGMOD</th>\n",
       "      <td>2009</td>\n",
       "      <td>83</td>\n",
       "      <td>0</td>\n",
       "      <td>0.000000</td>\n",
       "    </tr>\n",
       "    <tr>\n",
       "      <th>SIGMOD</th>\n",
       "      <td>2010</td>\n",
       "      <td>92</td>\n",
       "      <td>2</td>\n",
       "      <td>0.021739</td>\n",
       "    </tr>\n",
       "    <tr>\n",
       "      <th>SIGMOD</th>\n",
       "      <td>2011</td>\n",
       "      <td>96</td>\n",
       "      <td>0</td>\n",
       "      <td>0.000000</td>\n",
       "    </tr>\n",
       "    <tr>\n",
       "      <th>SIGMOD</th>\n",
       "      <td>2012</td>\n",
       "      <td>60</td>\n",
       "      <td>1</td>\n",
       "      <td>0.016667</td>\n",
       "    </tr>\n",
       "    <tr>\n",
       "      <th>SIGMOD</th>\n",
       "      <td>2013</td>\n",
       "      <td>89</td>\n",
       "      <td>5</td>\n",
       "      <td>0.056180</td>\n",
       "    </tr>\n",
       "    <tr>\n",
       "      <th>SIGMOD</th>\n",
       "      <td>2014</td>\n",
       "      <td>120</td>\n",
       "      <td>7</td>\n",
       "      <td>0.058333</td>\n",
       "    </tr>\n",
       "    <tr>\n",
       "      <th>SIGMOD</th>\n",
       "      <td>2015</td>\n",
       "      <td>144</td>\n",
       "      <td>5</td>\n",
       "      <td>0.034722</td>\n",
       "    </tr>\n",
       "    <tr>\n",
       "      <th>SIGMOD</th>\n",
       "      <td>2016</td>\n",
       "      <td>137</td>\n",
       "      <td>13</td>\n",
       "      <td>0.094891</td>\n",
       "    </tr>\n",
       "    <tr>\n",
       "      <th>SIGMOD</th>\n",
       "      <td>2017</td>\n",
       "      <td>107</td>\n",
       "      <td>15</td>\n",
       "      <td>0.140187</td>\n",
       "    </tr>\n",
       "  </tbody>\n",
       "</table>\n",
       "</div>"
      ],
      "text/plain": [
       "        Year  Papers  On Arxiv  On Arxiv (%)\n",
       "venue                                       \n",
       "SIGMOD  2007      88         1      0.011364\n",
       "SIGMOD  2008     101         1      0.009901\n",
       "SIGMOD  2009      83         0      0.000000\n",
       "SIGMOD  2010      92         2      0.021739\n",
       "SIGMOD  2011      96         0      0.000000\n",
       "SIGMOD  2012      60         1      0.016667\n",
       "SIGMOD  2013      89         5      0.056180\n",
       "SIGMOD  2014     120         7      0.058333\n",
       "SIGMOD  2015     144         5      0.034722\n",
       "SIGMOD  2016     137        13      0.094891\n",
       "SIGMOD  2017     107        15      0.140187"
      ]
     },
     "execution_count": 16,
     "metadata": {},
     "output_type": "execute_result"
    }
   ],
   "source": [
    "venue_df.loc[\"SIGMOD\"]"
   ]
  },
  {
   "cell_type": "markdown",
   "metadata": {},
   "source": [
    "VLDB seems to have had a one year uptick in the number of matched papers, which looks unusal."
   ]
  },
  {
   "cell_type": "code",
   "execution_count": 17,
   "metadata": {},
   "outputs": [
    {
     "data": {
      "text/html": [
       "<div>\n",
       "<style>\n",
       "    .dataframe thead tr:only-child th {\n",
       "        text-align: right;\n",
       "    }\n",
       "\n",
       "    .dataframe thead th {\n",
       "        text-align: left;\n",
       "    }\n",
       "\n",
       "    .dataframe tbody tr th {\n",
       "        vertical-align: top;\n",
       "    }\n",
       "</style>\n",
       "<table border=\"1\" class=\"dataframe\">\n",
       "  <thead>\n",
       "    <tr style=\"text-align: right;\">\n",
       "      <th></th>\n",
       "      <th>Year</th>\n",
       "      <th>Papers</th>\n",
       "      <th>On Arxiv</th>\n",
       "      <th>On Arxiv (%)</th>\n",
       "    </tr>\n",
       "    <tr>\n",
       "      <th>venue</th>\n",
       "      <th></th>\n",
       "      <th></th>\n",
       "      <th></th>\n",
       "      <th></th>\n",
       "    </tr>\n",
       "  </thead>\n",
       "  <tbody>\n",
       "    <tr>\n",
       "      <th>PVLDB</th>\n",
       "      <td>2007</td>\n",
       "      <td>117</td>\n",
       "      <td>0</td>\n",
       "      <td>0.000000</td>\n",
       "    </tr>\n",
       "    <tr>\n",
       "      <th>PVLDB</th>\n",
       "      <td>2008</td>\n",
       "      <td>124</td>\n",
       "      <td>4</td>\n",
       "      <td>0.032258</td>\n",
       "    </tr>\n",
       "    <tr>\n",
       "      <th>PVLDB</th>\n",
       "      <td>2009</td>\n",
       "      <td>128</td>\n",
       "      <td>5</td>\n",
       "      <td>0.039062</td>\n",
       "    </tr>\n",
       "    <tr>\n",
       "      <th>PVLDB</th>\n",
       "      <td>2010</td>\n",
       "      <td>149</td>\n",
       "      <td>5</td>\n",
       "      <td>0.033557</td>\n",
       "    </tr>\n",
       "    <tr>\n",
       "      <th>PVLDB</th>\n",
       "      <td>2011</td>\n",
       "      <td>132</td>\n",
       "      <td>56</td>\n",
       "      <td>0.424242</td>\n",
       "    </tr>\n",
       "    <tr>\n",
       "      <th>PVLDB</th>\n",
       "      <td>2012</td>\n",
       "      <td>139</td>\n",
       "      <td>121</td>\n",
       "      <td>0.870504</td>\n",
       "    </tr>\n",
       "    <tr>\n",
       "      <th>PVLDB</th>\n",
       "      <td>2013</td>\n",
       "      <td>166</td>\n",
       "      <td>8</td>\n",
       "      <td>0.048193</td>\n",
       "    </tr>\n",
       "    <tr>\n",
       "      <th>PVLDB</th>\n",
       "      <td>2014</td>\n",
       "      <td>162</td>\n",
       "      <td>17</td>\n",
       "      <td>0.104938</td>\n",
       "    </tr>\n",
       "    <tr>\n",
       "      <th>PVLDB</th>\n",
       "      <td>2015</td>\n",
       "      <td>156</td>\n",
       "      <td>23</td>\n",
       "      <td>0.147436</td>\n",
       "    </tr>\n",
       "    <tr>\n",
       "      <th>PVLDB</th>\n",
       "      <td>2016</td>\n",
       "      <td>134</td>\n",
       "      <td>24</td>\n",
       "      <td>0.179104</td>\n",
       "    </tr>\n",
       "    <tr>\n",
       "      <th>PVLDB</th>\n",
       "      <td>2017</td>\n",
       "      <td>115</td>\n",
       "      <td>22</td>\n",
       "      <td>0.191304</td>\n",
       "    </tr>\n",
       "  </tbody>\n",
       "</table>\n",
       "</div>"
      ],
      "text/plain": [
       "       Year  Papers  On Arxiv  On Arxiv (%)\n",
       "venue                                      \n",
       "PVLDB  2007     117         0      0.000000\n",
       "PVLDB  2008     124         4      0.032258\n",
       "PVLDB  2009     128         5      0.039062\n",
       "PVLDB  2010     149         5      0.033557\n",
       "PVLDB  2011     132        56      0.424242\n",
       "PVLDB  2012     139       121      0.870504\n",
       "PVLDB  2013     166         8      0.048193\n",
       "PVLDB  2014     162        17      0.104938\n",
       "PVLDB  2015     156        23      0.147436\n",
       "PVLDB  2016     134        24      0.179104\n",
       "PVLDB  2017     115        22      0.191304"
      ]
     },
     "execution_count": 17,
     "metadata": {},
     "output_type": "execute_result"
    }
   ],
   "source": [
    "venue_df.loc[\"PVLDB\"]"
   ]
  },
  {
   "cell_type": "markdown",
   "metadata": {},
   "source": [
    "We'll dump the list of all papers for further analysis."
   ]
  },
  {
   "cell_type": "code",
   "execution_count": 18,
   "metadata": {
    "collapsed": true
   },
   "outputs": [],
   "source": [
    "vldb2012 = [ m  for m in matches if ((m[\"venue\"] == \"PVLDB\") and (m[\"year\"] == 2012)) ]\n",
    "with open(\"vldb2012.json\", \"w\") as f:\n",
    "    json.dump(vldb2012, f, indent=2)"
   ]
  },
  {
   "cell_type": "markdown",
   "metadata": {},
   "source": [
    "We manually selected a few papers from this dump to examine. This examination did not reveal any false positives in our matching algorithm between Arxiv and DBLP. We did notice that all of the PVLDB 2012 papers that we reviewed had the metadata from the VLDB publication entered into Arxiv. As authors are not always assiduous at doing this on their own, it is possible that the high rate of Arxiv submissions for PVLDB 2012 was the result of actions taken by the conference organizers that year."
   ]
  },
  {
   "cell_type": "markdown",
   "metadata": {},
   "source": [
    "How has the total preprint usage in computer science changes over the past 10 years? We see that preprint percentage has **quadrupled** in five years."
   ]
  },
  {
   "cell_type": "code",
   "execution_count": 19,
   "metadata": {},
   "outputs": [
    {
     "data": {
      "text/html": [
       "<div>\n",
       "<style>\n",
       "    .dataframe thead tr:only-child th {\n",
       "        text-align: right;\n",
       "    }\n",
       "\n",
       "    .dataframe thead th {\n",
       "        text-align: left;\n",
       "    }\n",
       "\n",
       "    .dataframe tbody tr th {\n",
       "        vertical-align: top;\n",
       "    }\n",
       "</style>\n",
       "<table border=\"1\" class=\"dataframe\">\n",
       "  <thead>\n",
       "    <tr style=\"text-align: right;\">\n",
       "      <th></th>\n",
       "      <th>Year</th>\n",
       "      <th>Papers</th>\n",
       "      <th>On Arxiv</th>\n",
       "      <th>On Arxiv (%)</th>\n",
       "    </tr>\n",
       "  </thead>\n",
       "  <tbody>\n",
       "    <tr>\n",
       "      <th>0</th>\n",
       "      <td>2007</td>\n",
       "      <td>6542</td>\n",
       "      <td>71</td>\n",
       "      <td>0.010853</td>\n",
       "    </tr>\n",
       "    <tr>\n",
       "      <th>1</th>\n",
       "      <td>2008</td>\n",
       "      <td>5719</td>\n",
       "      <td>72</td>\n",
       "      <td>0.012590</td>\n",
       "    </tr>\n",
       "    <tr>\n",
       "      <th>2</th>\n",
       "      <td>2009</td>\n",
       "      <td>6337</td>\n",
       "      <td>137</td>\n",
       "      <td>0.021619</td>\n",
       "    </tr>\n",
       "    <tr>\n",
       "      <th>3</th>\n",
       "      <td>2010</td>\n",
       "      <td>6788</td>\n",
       "      <td>194</td>\n",
       "      <td>0.028580</td>\n",
       "    </tr>\n",
       "    <tr>\n",
       "      <th>4</th>\n",
       "      <td>2011</td>\n",
       "      <td>7315</td>\n",
       "      <td>359</td>\n",
       "      <td>0.049077</td>\n",
       "    </tr>\n",
       "    <tr>\n",
       "      <th>5</th>\n",
       "      <td>2012</td>\n",
       "      <td>7222</td>\n",
       "      <td>658</td>\n",
       "      <td>0.091110</td>\n",
       "    </tr>\n",
       "    <tr>\n",
       "      <th>6</th>\n",
       "      <td>2013</td>\n",
       "      <td>8207</td>\n",
       "      <td>528</td>\n",
       "      <td>0.064335</td>\n",
       "    </tr>\n",
       "    <tr>\n",
       "      <th>7</th>\n",
       "      <td>2014</td>\n",
       "      <td>8346</td>\n",
       "      <td>713</td>\n",
       "      <td>0.085430</td>\n",
       "    </tr>\n",
       "    <tr>\n",
       "      <th>8</th>\n",
       "      <td>2015</td>\n",
       "      <td>9650</td>\n",
       "      <td>1229</td>\n",
       "      <td>0.127358</td>\n",
       "    </tr>\n",
       "    <tr>\n",
       "      <th>9</th>\n",
       "      <td>2016</td>\n",
       "      <td>9319</td>\n",
       "      <td>1914</td>\n",
       "      <td>0.205387</td>\n",
       "    </tr>\n",
       "    <tr>\n",
       "      <th>10</th>\n",
       "      <td>2017</td>\n",
       "      <td>6156</td>\n",
       "      <td>1424</td>\n",
       "      <td>0.231319</td>\n",
       "    </tr>\n",
       "  </tbody>\n",
       "</table>\n",
       "</div>"
      ],
      "text/plain": [
       "    Year  Papers  On Arxiv  On Arxiv (%)\n",
       "0   2007    6542        71      0.010853\n",
       "1   2008    5719        72      0.012590\n",
       "2   2009    6337       137      0.021619\n",
       "3   2010    6788       194      0.028580\n",
       "4   2011    7315       359      0.049077\n",
       "5   2012    7222       658      0.091110\n",
       "6   2013    8207       528      0.064335\n",
       "7   2014    8346       713      0.085430\n",
       "8   2015    9650      1229      0.127358\n",
       "9   2016    9319      1914      0.205387\n",
       "10  2017    6156      1424      0.231319"
      ]
     },
     "execution_count": 19,
     "metadata": {},
     "output_type": "execute_result"
    }
   ],
   "source": [
    "year_df"
   ]
  },
  {
   "cell_type": "code",
   "execution_count": 20,
   "metadata": {},
   "outputs": [
    {
     "name": "stdout",
     "output_type": "stream",
     "text": [
      "Median preprint pct across areas (2017) = 0.097\n"
     ]
    }
   ],
   "source": [
    "print (\"Median preprint pct across areas (2017) = {:.3f}\".format (np.median(area17_df[\"On Arxiv (%)\"])))\n",
    "area17_df.sort_values(\"On Arxiv (%)\", ascending=False);"
   ]
  },
  {
   "cell_type": "code",
   "execution_count": 21,
   "metadata": {
    "scrolled": false
   },
   "outputs": [
    {
     "name": "stdout",
     "output_type": "stream",
     "text": [
      "Median preprint pct across venues (2017) = 0.117\n"
     ]
    }
   ],
   "source": [
    "print (\"Median preprint pct across venues (2017) = {:.3f}\".format (np.median(venue17_df[\"On Arxiv (%)\"])))"
   ]
  },
  {
   "cell_type": "markdown",
   "metadata": {},
   "source": [
    "Let's create a table for all of the 2017 venues that have more than 10 papers on arxiv."
   ]
  },
  {
   "cell_type": "code",
   "execution_count": 22,
   "metadata": {},
   "outputs": [
    {
     "data": {
      "text/html": [
       "<div>\n",
       "<style>\n",
       "    .dataframe thead tr:only-child th {\n",
       "        text-align: right;\n",
       "    }\n",
       "\n",
       "    .dataframe thead th {\n",
       "        text-align: left;\n",
       "    }\n",
       "\n",
       "    .dataframe tbody tr th {\n",
       "        vertical-align: top;\n",
       "    }\n",
       "</style>\n",
       "<table border=\"1\" class=\"dataframe\">\n",
       "  <thead>\n",
       "    <tr style=\"text-align: right;\">\n",
       "      <th></th>\n",
       "      <th>Papers</th>\n",
       "      <th>On Arxiv</th>\n",
       "      <th>On Arxiv (%)</th>\n",
       "    </tr>\n",
       "    <tr>\n",
       "      <th>venue</th>\n",
       "      <th></th>\n",
       "      <th></th>\n",
       "      <th></th>\n",
       "    </tr>\n",
       "  </thead>\n",
       "  <tbody>\n",
       "    <tr>\n",
       "      <th>ICML</th>\n",
       "      <td>427</td>\n",
       "      <td>278</td>\n",
       "      <td>0.651054</td>\n",
       "    </tr>\n",
       "    <tr>\n",
       "      <th>STOC</th>\n",
       "      <td>98</td>\n",
       "      <td>63</td>\n",
       "      <td>0.642857</td>\n",
       "    </tr>\n",
       "    <tr>\n",
       "      <th>SODA</th>\n",
       "      <td>182</td>\n",
       "      <td>103</td>\n",
       "      <td>0.565934</td>\n",
       "    </tr>\n",
       "    <tr>\n",
       "      <th>ACL</th>\n",
       "      <td>290</td>\n",
       "      <td>133</td>\n",
       "      <td>0.458621</td>\n",
       "    </tr>\n",
       "    <tr>\n",
       "      <th>EMNLP</th>\n",
       "      <td>303</td>\n",
       "      <td>123</td>\n",
       "      <td>0.405941</td>\n",
       "    </tr>\n",
       "    <tr>\n",
       "      <th>LICS</th>\n",
       "      <td>85</td>\n",
       "      <td>33</td>\n",
       "      <td>0.388235</td>\n",
       "    </tr>\n",
       "    <tr>\n",
       "      <th>CAV</th>\n",
       "      <td>61</td>\n",
       "      <td>21</td>\n",
       "      <td>0.344262</td>\n",
       "    </tr>\n",
       "    <tr>\n",
       "      <th>POPL</th>\n",
       "      <td>64</td>\n",
       "      <td>19</td>\n",
       "      <td>0.296875</td>\n",
       "    </tr>\n",
       "    <tr>\n",
       "      <th>WWW</th>\n",
       "      <td>158</td>\n",
       "      <td>44</td>\n",
       "      <td>0.278481</td>\n",
       "    </tr>\n",
       "    <tr>\n",
       "      <th>KDD</th>\n",
       "      <td>208</td>\n",
       "      <td>53</td>\n",
       "      <td>0.254808</td>\n",
       "    </tr>\n",
       "    <tr>\n",
       "      <th>AAAI</th>\n",
       "      <td>661</td>\n",
       "      <td>165</td>\n",
       "      <td>0.249622</td>\n",
       "    </tr>\n",
       "    <tr>\n",
       "      <th>SIGIR</th>\n",
       "      <td>77</td>\n",
       "      <td>16</td>\n",
       "      <td>0.207792</td>\n",
       "    </tr>\n",
       "    <tr>\n",
       "      <th>PVLDB</th>\n",
       "      <td>115</td>\n",
       "      <td>22</td>\n",
       "      <td>0.191304</td>\n",
       "    </tr>\n",
       "    <tr>\n",
       "      <th>IJCAI</th>\n",
       "      <td>653</td>\n",
       "      <td>119</td>\n",
       "      <td>0.182236</td>\n",
       "    </tr>\n",
       "    <tr>\n",
       "      <th>ICRA</th>\n",
       "      <td>771</td>\n",
       "      <td>117</td>\n",
       "      <td>0.151751</td>\n",
       "    </tr>\n",
       "    <tr>\n",
       "      <th>SIGMOD</th>\n",
       "      <td>107</td>\n",
       "      <td>15</td>\n",
       "      <td>0.140187</td>\n",
       "    </tr>\n",
       "    <tr>\n",
       "      <th>FSE</th>\n",
       "      <td>90</td>\n",
       "      <td>10</td>\n",
       "      <td>0.111111</td>\n",
       "    </tr>\n",
       "    <tr>\n",
       "      <th>SIGGRAPH (+Asia)</th>\n",
       "      <td>163</td>\n",
       "      <td>15</td>\n",
       "      <td>0.092025</td>\n",
       "    </tr>\n",
       "  </tbody>\n",
       "</table>\n",
       "</div>"
      ],
      "text/plain": [
       "                  Papers  On Arxiv  On Arxiv (%)\n",
       "venue                                           \n",
       "ICML                 427       278      0.651054\n",
       "STOC                  98        63      0.642857\n",
       "SODA                 182       103      0.565934\n",
       "ACL                  290       133      0.458621\n",
       "EMNLP                303       123      0.405941\n",
       "LICS                  85        33      0.388235\n",
       "CAV                   61        21      0.344262\n",
       "POPL                  64        19      0.296875\n",
       "WWW                  158        44      0.278481\n",
       "KDD                  208        53      0.254808\n",
       "AAAI                 661       165      0.249622\n",
       "SIGIR                 77        16      0.207792\n",
       "PVLDB                115        22      0.191304\n",
       "IJCAI                653       119      0.182236\n",
       "ICRA                 771       117      0.151751\n",
       "SIGMOD               107        15      0.140187\n",
       "FSE                   90        10      0.111111\n",
       "SIGGRAPH (+Asia)     163        15      0.092025"
      ]
     },
     "execution_count": 22,
     "metadata": {},
     "output_type": "execute_result"
    }
   ],
   "source": [
    "top17 = (venue17_df.sort_values(\"On Arxiv (%)\", ascending=False))\n",
    "top17 = top17[top17[\"On Arxiv\"] >= 10]\n",
    "top17 = top17.drop(\"Year\", 1)\n",
    "top17"
   ]
  },
  {
   "cell_type": "markdown",
   "metadata": {},
   "source": [
    "# For each venue, prepublication percentage in 2017 (dotplot grouped by area)\n",
    "\n",
    "Generate a dotplot that for each area, shows the arxiv % over the conferences in that area. This lets us see the variance across venues in the same area."
   ]
  },
  {
   "cell_type": "code",
   "execution_count": 23,
   "metadata": {},
   "outputs": [
    {
     "data": {
      "image/png": "[encoded data removed]",
      "text/plain": [
       "<matplotlib.figure.Figure at 0x11d2d9d68>"
      ]
     },
     "metadata": {},
     "output_type": "display_data"
    }
   ],
   "source": [
    "# via https://acaird.github.io/2016/06/24/dotplots-with-matplotlib\n",
    "\n",
    "areas = list(area_df.index.unique())\n",
    "areas.sort(key=lambda area: float(area16_df.loc[area, \"On Arxiv (%)\"]))\n",
    "area2int = dict([ (areas[i], i) for i in range(len(areas))])\n",
    "\n",
    "# font size \n",
    "font = {'family' : 'serif',\n",
    "        'size'   : 14}\n",
    "matplotlib.rc('font', **font)\n",
    "\n",
    "# Get the plot aspect right for thinner bars that aren't too spread out\n",
    "fig, ax = plt.subplots(figsize=(12,10.5))\n",
    "ax.patch.set_visible(False)\n",
    "\n",
    "# all the points we want to plot\n",
    "ys_all = [ area2int[v2a[v]] for v in venue17_df.index ]\n",
    "xs_all = venue17_df[\"On Arxiv (%)\"]\n",
    "\n",
    "# Create the bars\n",
    "# The parameters are:\n",
    "#   - the number of bars for the y-axis\n",
    "#   - the values from the first column of data\n",
    "#   - the width of the bars out to the points\n",
    "#   - color = the color of the bars\n",
    "#   - edgecolor = the color of the bars' borders\n",
    "#   - alpha = the transparency of the bars\n",
    "for i in range(len(areas)):\n",
    "    plt.plot([0.0, 1.0], [i, i], color='k', linestyle='-', alpha=0.4, linewidth=0.1)\n",
    "    venue_vals = xs_all.loc[list(pd.Series(ys_all) == i)]\n",
    "    if len(venue_vals) > 1:\n",
    "        plt.plot([min(venue_vals), max(venue_vals)], [i, i], color='k', linestyle='-', linewidth=0.5)\n",
    "\n",
    "# Create the points using normal x-y scatter coordinates\n",
    "# The parameters are:\n",
    "#   - the x values from the first column of the data\n",
    "#   - the y values, which are just the indices of the data\n",
    "#   - the size of the points\n",
    "points = ax.scatter(xs_all, ys_all, s=30)\n",
    "\n",
    "\n",
    "ax.set_xlim([-0.01,0.7])\n",
    "ax.set_ylim([-0.5, len(areas)-0.5])\n",
    "ax.set_yticks(range(len(areas)))\n",
    "ax.set_yticklabels([ config.labeldict[a] for a in areas ])\n",
    "\n",
    "# Turn off all of the borders\n",
    "ax.spines['top'].set_visible(False)\n",
    "ax.spines['bottom'].set_visible(True)\n",
    "ax.spines['right'].set_visible(False)\n",
    "ax.spines['left'].set_visible(True)\n",
    "\n",
    "# Turn on the X (vertical) gridlines\n",
    "ax.xaxis.grid(True, linestyle='dotted', alpha=0.2)\n",
    "\n",
    "plt.tight_layout(True)\n",
    "\n",
    "plt.savefig(\"figures/areas_dotplot.pdf\", format=\"pdf\")"
   ]
  },
  {
   "cell_type": "markdown",
   "metadata": {
    "collapsed": true
   },
   "source": [
    "# Was arxiv submission before or after blind review?\n",
    "\n",
    "Authors could have submitted their papers:\n",
    " \n",
    "  * Before the conference deadline. (Could be years before, especially in the case of a paper that had been rejected from a previous years' conference)\n",
    "  * After the submission deadline but before the camera ready deadline\n",
    "  * After the camera ready deadline but before the conference\n",
    "  \n",
    "For arxiv papers that have multiple revisions, we use the date of the first revision as the submission date of the arxiv paper.\n",
    "  \n",
    "For the year 2017, we collected the submission deadline, camera-ready deadline and first date of the conference from all the conferences; this was collected retrospectively by visiting the conference web sites on 20-21 September 2017. SIGMOD 2017 had an opportunity for revision during the review process; the date of the final accept/reject decision was used as the notification deadline."
   ]
  },
  {
   "cell_type": "markdown",
   "metadata": {},
   "source": [
    "We collect the dates only for those venues that had at least 10 Arxiv papers in 2017. PLVDB was excluded from this analysis due to its rolling deadlines. This left us with 16 venues to examine, with a total of 1324 matched arxiv papers."
   ]
  },
  {
   "cell_type": "code",
   "execution_count": 24,
   "metadata": {
    "collapsed": true
   },
   "outputs": [],
   "source": [
    "big_venues = venue17_df[(venue17_df[\"On Arxiv\"] >= 10)]"
   ]
  },
  {
   "cell_type": "code",
   "execution_count": 25,
   "metadata": {},
   "outputs": [
    {
     "data": {
      "text/html": [
       "<div>\n",
       "<style>\n",
       "    .dataframe thead tr:only-child th {\n",
       "        text-align: right;\n",
       "    }\n",
       "\n",
       "    .dataframe thead th {\n",
       "        text-align: left;\n",
       "    }\n",
       "\n",
       "    .dataframe tbody tr th {\n",
       "        vertical-align: top;\n",
       "    }\n",
       "</style>\n",
       "<table border=\"1\" class=\"dataframe\">\n",
       "  <thead>\n",
       "    <tr style=\"text-align: right;\">\n",
       "      <th></th>\n",
       "      <th>Year</th>\n",
       "      <th>Papers</th>\n",
       "      <th>On Arxiv</th>\n",
       "      <th>On Arxiv (%)</th>\n",
       "    </tr>\n",
       "    <tr>\n",
       "      <th>venue</th>\n",
       "      <th></th>\n",
       "      <th></th>\n",
       "      <th></th>\n",
       "      <th></th>\n",
       "    </tr>\n",
       "  </thead>\n",
       "  <tbody>\n",
       "    <tr>\n",
       "      <th>AAAI</th>\n",
       "      <td>2017</td>\n",
       "      <td>661</td>\n",
       "      <td>165</td>\n",
       "      <td>0.249622</td>\n",
       "    </tr>\n",
       "    <tr>\n",
       "      <th>ACL</th>\n",
       "      <td>2017</td>\n",
       "      <td>290</td>\n",
       "      <td>133</td>\n",
       "      <td>0.458621</td>\n",
       "    </tr>\n",
       "    <tr>\n",
       "      <th>CAV</th>\n",
       "      <td>2017</td>\n",
       "      <td>61</td>\n",
       "      <td>21</td>\n",
       "      <td>0.344262</td>\n",
       "    </tr>\n",
       "    <tr>\n",
       "      <th>EMNLP</th>\n",
       "      <td>2017</td>\n",
       "      <td>303</td>\n",
       "      <td>123</td>\n",
       "      <td>0.405941</td>\n",
       "    </tr>\n",
       "    <tr>\n",
       "      <th>FSE</th>\n",
       "      <td>2017</td>\n",
       "      <td>90</td>\n",
       "      <td>10</td>\n",
       "      <td>0.111111</td>\n",
       "    </tr>\n",
       "    <tr>\n",
       "      <th>ICML</th>\n",
       "      <td>2017</td>\n",
       "      <td>427</td>\n",
       "      <td>278</td>\n",
       "      <td>0.651054</td>\n",
       "    </tr>\n",
       "    <tr>\n",
       "      <th>ICRA</th>\n",
       "      <td>2017</td>\n",
       "      <td>771</td>\n",
       "      <td>117</td>\n",
       "      <td>0.151751</td>\n",
       "    </tr>\n",
       "    <tr>\n",
       "      <th>IJCAI</th>\n",
       "      <td>2017</td>\n",
       "      <td>653</td>\n",
       "      <td>119</td>\n",
       "      <td>0.182236</td>\n",
       "    </tr>\n",
       "    <tr>\n",
       "      <th>KDD</th>\n",
       "      <td>2017</td>\n",
       "      <td>208</td>\n",
       "      <td>53</td>\n",
       "      <td>0.254808</td>\n",
       "    </tr>\n",
       "    <tr>\n",
       "      <th>LICS</th>\n",
       "      <td>2017</td>\n",
       "      <td>85</td>\n",
       "      <td>33</td>\n",
       "      <td>0.388235</td>\n",
       "    </tr>\n",
       "    <tr>\n",
       "      <th>POPL</th>\n",
       "      <td>2017</td>\n",
       "      <td>64</td>\n",
       "      <td>19</td>\n",
       "      <td>0.296875</td>\n",
       "    </tr>\n",
       "    <tr>\n",
       "      <th>PVLDB</th>\n",
       "      <td>2017</td>\n",
       "      <td>115</td>\n",
       "      <td>22</td>\n",
       "      <td>0.191304</td>\n",
       "    </tr>\n",
       "    <tr>\n",
       "      <th>SIGGRAPH (+Asia)</th>\n",
       "      <td>2017</td>\n",
       "      <td>163</td>\n",
       "      <td>15</td>\n",
       "      <td>0.092025</td>\n",
       "    </tr>\n",
       "    <tr>\n",
       "      <th>SIGIR</th>\n",
       "      <td>2017</td>\n",
       "      <td>77</td>\n",
       "      <td>16</td>\n",
       "      <td>0.207792</td>\n",
       "    </tr>\n",
       "    <tr>\n",
       "      <th>SIGMOD</th>\n",
       "      <td>2017</td>\n",
       "      <td>107</td>\n",
       "      <td>15</td>\n",
       "      <td>0.140187</td>\n",
       "    </tr>\n",
       "    <tr>\n",
       "      <th>SODA</th>\n",
       "      <td>2017</td>\n",
       "      <td>182</td>\n",
       "      <td>103</td>\n",
       "      <td>0.565934</td>\n",
       "    </tr>\n",
       "    <tr>\n",
       "      <th>STOC</th>\n",
       "      <td>2017</td>\n",
       "      <td>98</td>\n",
       "      <td>63</td>\n",
       "      <td>0.642857</td>\n",
       "    </tr>\n",
       "    <tr>\n",
       "      <th>WWW</th>\n",
       "      <td>2017</td>\n",
       "      <td>158</td>\n",
       "      <td>44</td>\n",
       "      <td>0.278481</td>\n",
       "    </tr>\n",
       "  </tbody>\n",
       "</table>\n",
       "</div>"
      ],
      "text/plain": [
       "                  Year  Papers  On Arxiv  On Arxiv (%)\n",
       "venue                                                 \n",
       "AAAI              2017     661       165      0.249622\n",
       "ACL               2017     290       133      0.458621\n",
       "CAV               2017      61        21      0.344262\n",
       "EMNLP             2017     303       123      0.405941\n",
       "FSE               2017      90        10      0.111111\n",
       "ICML              2017     427       278      0.651054\n",
       "ICRA              2017     771       117      0.151751\n",
       "IJCAI             2017     653       119      0.182236\n",
       "KDD               2017     208        53      0.254808\n",
       "LICS              2017      85        33      0.388235\n",
       "POPL              2017      64        19      0.296875\n",
       "PVLDB             2017     115        22      0.191304\n",
       "SIGGRAPH (+Asia)  2017     163        15      0.092025\n",
       "SIGIR             2017      77        16      0.207792\n",
       "SIGMOD            2017     107        15      0.140187\n",
       "SODA              2017     182       103      0.565934\n",
       "STOC              2017      98        63      0.642857\n",
       "WWW               2017     158        44      0.278481"
      ]
     },
     "execution_count": 25,
     "metadata": {},
     "output_type": "execute_result"
    }
   ],
   "source": [
    "big_venues"
   ]
  },
  {
   "cell_type": "code",
   "execution_count": 26,
   "metadata": {},
   "outputs": [
    {
     "data": {
      "text/plain": [
       "18"
      ]
     },
     "execution_count": 26,
     "metadata": {},
     "output_type": "execute_result"
    }
   ],
   "source": [
    "len(big_venues)"
   ]
  },
  {
   "cell_type": "code",
   "execution_count": 27,
   "metadata": {},
   "outputs": [
    {
     "data": {
      "text/plain": [
       "1349"
      ]
     },
     "execution_count": 27,
     "metadata": {},
     "output_type": "execute_result"
    }
   ],
   "source": [
    "sum(big_venues['On Arxiv'])"
   ]
  },
  {
   "cell_type": "markdown",
   "metadata": {},
   "source": [
    "The deadlines that were collected from manual web searching are in the file `data/deadlines.csv`."
   ]
  },
  {
   "cell_type": "code",
   "execution_count": 28,
   "metadata": {
    "collapsed": true
   },
   "outputs": [],
   "source": [
    "deadlines = pd.read_csv(\"data/deadlines.csv\")\n",
    "deadlines = deadlines.set_index(\"venue\")"
   ]
  },
  {
   "cell_type": "markdown",
   "metadata": {},
   "source": [
    "In some cases, the date of notification was unavailable from a web search:\n",
    "* For ICML 2017, the notification date was taken from the date of the author notification email that CS recieved from the conference. \n",
    "* For SODA 2017, the notification deadline was taken to be 1 October 2016 as an approximation based on a statement made https://www.siam.org/meetings/da17/proceedings.php: \"SIAM will provide final paper submission instructions to authors of accepted papers in early October 2016\". \n",
    "* For ICRA 2017, the notification date was unavailable so the camera-ready date was used instead."
   ]
  },
  {
   "cell_type": "code",
   "execution_count": 29,
   "metadata": {
    "collapsed": true
   },
   "outputs": [],
   "source": [
    "deadlines.loc[\"ICRA\", \"notification\"] = deadlines.loc[\"ICRA\", \"camera_ready\"] \n"
   ]
  },
  {
   "cell_type": "markdown",
   "metadata": {},
   "source": [
    "For each conference, we measure the percentage of arxiv articles that are preprints, i.e., the submission date to Arxiv is prior to the notification date of the conference."
   ]
  },
  {
   "cell_type": "markdown",
   "metadata": {},
   "source": [
    "First, we go back to the original JSON dump of DBLP, and keep only those articles that are in our target conferences, come from 2017, and are paired to arxiv."
   ]
  },
  {
   "cell_type": "code",
   "execution_count": 30,
   "metadata": {
    "collapsed": true
   },
   "outputs": [],
   "source": [
    "our_venues = list(deadlines.index)\n",
    "dblp_with_arxiv = [ art for art in matches if ('arxiv' in art) and (art['venue'] in our_venues) and (art['year'] == 2017) ]"
   ]
  },
  {
   "cell_type": "markdown",
   "metadata": {},
   "source": [
    "Sanity check that the number of articles matches our number from above."
   ]
  },
  {
   "cell_type": "code",
   "execution_count": 31,
   "metadata": {},
   "outputs": [
    {
     "data": {
      "text/plain": [
       "1302"
      ]
     },
     "execution_count": 31,
     "metadata": {},
     "output_type": "execute_result"
    }
   ],
   "source": [
    "len(dblp_with_arxiv)"
   ]
  },
  {
   "cell_type": "markdown",
   "metadata": {},
   "source": [
    "A few short of the number above, but that is probably reasonable because we excluded PVLDB from this analysis, and not the number above.    "
   ]
  },
  {
   "cell_type": "markdown",
   "metadata": {},
   "source": [
    "To do the join between notification dates, the DBLP, and the arxiv, it will be useful to convert the deadlines data frame into a Python dict that maps conference names --> notification deadlines. Here's a three liner to do that."
   ]
  },
  {
   "cell_type": "code",
   "execution_count": 32,
   "metadata": {
    "collapsed": true
   },
   "outputs": [],
   "source": [
    "cnf2not = deadlines.to_dict()[\"notification\"]\n",
    "cnf2sub = deadlines.to_dict()[\"submission\"]"
   ]
  },
  {
   "cell_type": "markdown",
   "metadata": {},
   "source": [
    "Now load our arxiv dump from JSON and create an index that lets us map an arxiv id to the JSON metadata for the article."
   ]
  },
  {
   "cell_type": "code",
   "execution_count": 33,
   "metadata": {
    "collapsed": true
   },
   "outputs": [],
   "source": [
    "with open (\"generated/arxiv/json/arxiv_articles.json\") as f:\n",
    "    arxiv = json.load (f)\n",
    "\n",
    "arxiv_dict = dict()\n",
    "for art in arxiv:\n",
    "    arxiv_dict[art['id']] = art"
   ]
  },
  {
   "cell_type": "code",
   "execution_count": 34,
   "metadata": {},
   "outputs": [
    {
     "data": {
      "text/plain": [
       "{'authors': 'I. Csiszar, F. Hiai and D. Petz',\n",
       " 'bow_authors': [['i', 'csiszar'], ['f', 'hiai'], ['d', 'petz']],\n",
       " 'bow_title': ['limit',\n",
       "  'relation',\n",
       "  'entropy',\n",
       "  'channel',\n",
       "  'capacity',\n",
       "  'per',\n",
       "  'unit',\n",
       "  'cost'],\n",
       " 'category': 'quant-ph cs.IT math.IT',\n",
       " 'id': '0704.0046',\n",
       " 'submit': '1-Apr-2007',\n",
       " 'title': 'A limit relation for entropy and channel capacity per unit cost',\n",
       " 'year': 2007}"
      ]
     },
     "execution_count": 34,
     "metadata": {},
     "output_type": "execute_result"
    }
   ],
   "source": [
    "arxiv[1]"
   ]
  },
  {
   "cell_type": "markdown",
   "metadata": {},
   "source": [
    "We define a function that does the string->date object conversion so that we can chronologically compare two dates that are expressed as strings."
   ]
  },
  {
   "cell_type": "code",
   "execution_count": 35,
   "metadata": {
    "collapsed": true
   },
   "outputs": [],
   "source": [
    "import time\n",
    "def lte_date_strings (date1, date2):\n",
    "    newdate1 = time.strptime(date1, \"%d-%b-%Y\") \n",
    "    newdate2 = time.strptime(date2, \"%d-%b-%Y\")\n",
    "    return newdate1 <= newdate2"
   ]
  },
  {
   "cell_type": "markdown",
   "metadata": {},
   "source": [
    "Now here's our loop that does the join between arxiv articles, dblp articles, and conference deadlines. The output is four different lists:\n",
    " * `all_preprints`: List of all dblp articles who were submitted before the conference notification deadline\n",
    " * `num_preprints`: Dictionary that maps venue name --> number of arxiv articles that were submitted before notification deadline (\"genuine preprints\")\n",
    " * `all_presub`: List of all dblp articles who were submitted before the conference submission deadline\n",
    " * `num_presub`: Dictionary that maps venue name --> number of arxiv articles that were submitted before conference submission deadline (\"presubmission arxiv\")"
   ]
  },
  {
   "cell_type": "code",
   "execution_count": 36,
   "metadata": {
    "collapsed": true
   },
   "outputs": [],
   "source": [
    "import itertools\n",
    "\n",
    "all_preprints = list()\n",
    "num_preprints = dict(zip (our_venues, itertools.repeat(0, len(our_venues))))\n",
    "all_presub = list()\n",
    "num_presub = dict(zip (our_venues, itertools.repeat(0, len(our_venues))))\n",
    "\n",
    "for dblp_art in dblp_with_arxiv:\n",
    "    arxiv_art = arxiv_dict[dblp_art[\"arxiv\"][0]]\n",
    "    venue = dblp_art[\"venue\"]\n",
    "    if lte_date_strings( arxiv_art[\"submit\"], cnf2not [venue]):\n",
    "        num_preprints[venue] += 1\n",
    "        all_preprints.append(dblp_art)\n",
    "    if lte_date_strings( arxiv_art[\"submit\"], cnf2sub [venue]):\n",
    "        num_presub[venue] += 1\n",
    "        all_presub.append(dblp_art)"
   ]
  },
  {
   "cell_type": "markdown",
   "metadata": {},
   "source": [
    "Quick sanity check: Does sum(num_preprints) = len(all_preprints) and same for presub?"
   ]
  },
  {
   "cell_type": "code",
   "execution_count": 37,
   "metadata": {},
   "outputs": [
    {
     "data": {
      "text/plain": [
       "{'AAAI': 82,\n",
       " 'ACL': 26,\n",
       " 'CAV': 10,\n",
       " 'EMNLP': 45,\n",
       " 'ICML': 204,\n",
       " 'ICRA': 84,\n",
       " 'IJCAI': 51,\n",
       " 'KDD': 35,\n",
       " 'LICS': 22,\n",
       " 'POPL': 10,\n",
       " 'SIGIR': 0,\n",
       " 'SIGMOD': 8,\n",
       " 'SODA': 81,\n",
       " 'STOC': 49,\n",
       " 'WWW': 24}"
      ]
     },
     "execution_count": 37,
     "metadata": {},
     "output_type": "execute_result"
    }
   ],
   "source": [
    "num_preprints"
   ]
  },
  {
   "cell_type": "code",
   "execution_count": 38,
   "metadata": {},
   "outputs": [
    {
     "data": {
      "text/plain": [
       "731"
      ]
     },
     "execution_count": 38,
     "metadata": {},
     "output_type": "execute_result"
    }
   ],
   "source": [
    "len(all_preprints)"
   ]
  },
  {
   "cell_type": "code",
   "execution_count": 39,
   "metadata": {},
   "outputs": [
    {
     "data": {
      "text/plain": [
       "731"
      ]
     },
     "execution_count": 39,
     "metadata": {},
     "output_type": "execute_result"
    }
   ],
   "source": [
    "sum([v for k,v in num_preprints.items()])"
   ]
  },
  {
   "cell_type": "code",
   "execution_count": 40,
   "metadata": {
    "scrolled": true
   },
   "outputs": [
    {
     "data": {
      "text/plain": [
       "{'AAAI': 56,\n",
       " 'ACL': 16,\n",
       " 'CAV': 6,\n",
       " 'EMNLP': 28,\n",
       " 'ICML': 95,\n",
       " 'ICRA': 20,\n",
       " 'IJCAI': 30,\n",
       " 'KDD': 15,\n",
       " 'LICS': 8,\n",
       " 'POPL': 1,\n",
       " 'SIGIR': 0,\n",
       " 'SIGMOD': 7,\n",
       " 'SODA': 47,\n",
       " 'STOC': 24,\n",
       " 'WWW': 9}"
      ]
     },
     "execution_count": 40,
     "metadata": {},
     "output_type": "execute_result"
    }
   ],
   "source": [
    "num_presub"
   ]
  },
  {
   "cell_type": "code",
   "execution_count": 41,
   "metadata": {},
   "outputs": [
    {
     "data": {
      "text/plain": [
       "362"
      ]
     },
     "execution_count": 41,
     "metadata": {},
     "output_type": "execute_result"
    }
   ],
   "source": [
    "len(all_presub)"
   ]
  },
  {
   "cell_type": "code",
   "execution_count": 42,
   "metadata": {},
   "outputs": [
    {
     "data": {
      "text/plain": [
       "362"
      ]
     },
     "execution_count": 42,
     "metadata": {},
     "output_type": "execute_result"
    }
   ],
   "source": [
    "sum([v for k,v in num_presub.items()])"
   ]
  },
  {
   "cell_type": "code",
   "execution_count": 43,
   "metadata": {
    "collapsed": true
   },
   "outputs": [],
   "source": [
    "aaai_preprints = [ art for art in all_preprints if art[\"venue\"] == \"AAAI\" ]"
   ]
  },
  {
   "cell_type": "code",
   "execution_count": 44,
   "metadata": {},
   "outputs": [
    {
     "data": {
      "text/plain": [
       "{'area': 'ai',\n",
       " 'arxiv': ['1604.03635'],\n",
       " 'authors': ['Anton Milan',\n",
       "  'Seyed Hamid Rezatofighi',\n",
       "  'Anthony R. Dick',\n",
       "  'Ian D. Reid 0001',\n",
       "  'Konrad Schindler'],\n",
       " 'bow_authors': [['anton', 'milan'],\n",
       "  ['seyed', 'hamid', 'rezatofighi'],\n",
       "  ['anthony', 'r', 'dick'],\n",
       "  ['ian', 'd', 'reid', '0001'],\n",
       "  ['konrad', 'schindler']],\n",
       " 'dblp': 'conf/aaai/MilanRD0S17',\n",
       " 'title': 'Online Multi-Target Tracking Using Recurrent Neural Networks',\n",
       " 'url': 'db/conf/aaai/aaai2017.html#MilanRD0S17',\n",
       " 'venue': 'AAAI',\n",
       " 'year': 2017}"
      ]
     },
     "execution_count": 44,
     "metadata": {},
     "output_type": "execute_result"
    }
   ],
   "source": [
    "aaai_preprints[1]"
   ]
  },
  {
   "cell_type": "code",
   "execution_count": 45,
   "metadata": {},
   "outputs": [
    {
     "data": {
      "text/plain": [
       "{'authors': 'Anton Milan, Seyed Hamid Rezatofighi, Anthony Dick, Ian Reid, Konrad Schindler',\n",
       " 'bow_authors': [['anton', 'milan'],\n",
       "  ['seyed', 'hamid', 'rezatofighi'],\n",
       "  ['anthony', 'dick'],\n",
       "  ['ian', 'reid'],\n",
       "  ['konrad', 'schindler']],\n",
       " 'bow_title': ['online',\n",
       "  'multi',\n",
       "  'target',\n",
       "  'tracking',\n",
       "  'using',\n",
       "  'recurrent',\n",
       "  'neural',\n",
       "  'networks'],\n",
       " 'category': 'cs.CV',\n",
       " 'id': '1604.03635',\n",
       " 'submit': '13-Apr-2016',\n",
       " 'title': 'Online Multi-Target Tracking Using Recurrent Neural Networks',\n",
       " 'year': 2016}"
      ]
     },
     "execution_count": 45,
     "metadata": {},
     "output_type": "execute_result"
    }
   ],
   "source": [
    "arxiv_dict[\"1604.03635\"]"
   ]
  },
  {
   "cell_type": "markdown",
   "metadata": {},
   "source": [
    "Now we can produce the headline numbers:\n",
    "    \n",
    "* 56% of the accepted CS papers submitted to Arxiv were true preprints, in that they were submitted to Arxiv before the conference notification deadline.\n",
    "* 28% of the accepted CS papers submitted to Arxiv were submitted even before the conference submission deadline, a total of 361 papers. These may indicate papers that were previously rejected from other conferences, or simply papers for which a draft was posted well in advance of the deadline."
   ]
  },
  {
   "cell_type": "code",
   "execution_count": 46,
   "metadata": {},
   "outputs": [
    {
     "data": {
      "text/plain": [
       "0.5614439324116743"
      ]
     },
     "execution_count": 46,
     "metadata": {},
     "output_type": "execute_result"
    }
   ],
   "source": [
    "len(all_preprints) / len(dblp_with_arxiv)"
   ]
  },
  {
   "cell_type": "code",
   "execution_count": 47,
   "metadata": {},
   "outputs": [
    {
     "data": {
      "text/plain": [
       "0.2780337941628264"
      ]
     },
     "execution_count": 47,
     "metadata": {},
     "output_type": "execute_result"
    }
   ],
   "source": [
    "len(all_presub) / len(dblp_with_arxiv)"
   ]
  },
  {
   "cell_type": "markdown",
   "metadata": {},
   "source": [
    "Also let's plot the variation in preprint and presubmission areas across the different venues."
   ]
  },
  {
   "cell_type": "code",
   "execution_count": 48,
   "metadata": {},
   "outputs": [
    {
     "data": {
      "image/png": "[encoded data removed]",
      "text/plain": [
       "<matplotlib.figure.Figure at 0x144c019e8>"
      ]
     },
     "metadata": {},
     "output_type": "display_data"
    }
   ],
   "source": [
    "# via https://acaird.github.io/2016/06/24/dotplots-with-matplotlib\n",
    "\n",
    "\n",
    "sorted_venues = sorted(our_venues, key=lambda venue: float(venue17_df.loc[venue, 'On Arxiv (%)']) )\n",
    "venue2int = dict([ (sorted_venues[i], i) for i in range(len(our_venues))])\n",
    "\n",
    "# Get the plot aspect right for thinner bars that aren't too spread out\n",
    "fig, ax = plt.subplots(figsize=(12,6))\n",
    "ax.patch.set_visible(False)\n",
    "\n",
    "# Create the bars\n",
    "# The parameters are:\n",
    "#   - the number of bars for the y-axis\n",
    "#   - the values from the first column of data\n",
    "#   - the width of the bars out to the points\n",
    "#   - color = the color of the bars\n",
    "#   - edgecolor = the color of the bars' borders\n",
    "#   - alpha = the transparency of the bars\n",
    "for i in range(len(sorted_venues)):\n",
    "    plt.plot([0.0, 1.0], [i, i], color='k', linestyle='-', alpha=0.4, linewidth=0.1)\n",
    "\n",
    "# Create the points using normal x-y scatter coordinates\n",
    "# The parameters are:\n",
    "#   - the x values from the first column of the data\n",
    "#   - the y values, which are just the indices of the data\n",
    "#   - the size of the points\n",
    "ys = [ venue2int[venue] for venue in sorted_venues ]\n",
    "xs = [ num_preprints[venue] / (venue17_df.loc[venue][\"On Arxiv\"]) for venue in sorted_venues ]\n",
    "points = ax.scatter(xs, ys, s=30, marker=\"s\")\n",
    "\n",
    "xs = [ num_presub[venue] / (venue17_df.loc[venue][\"On Arxiv\"]) for venue in sorted_venues ]\n",
    "points = ax.scatter(xs, ys, s=30, color=\"green\")\n",
    "\n",
    "ax.set_xlim([-0.05,1.05])\n",
    "ax.set_ylim([-0.5, len(sorted_venues)-0.5])\n",
    "ax.set_yticks(range(len(sorted_venues)))\n",
    "ax.set_yticklabels(sorted_venues)\n",
    "\n",
    "# Turn off all of the borders\n",
    "ax.spines['top'].set_visible(False)\n",
    "ax.spines['bottom'].set_visible(False)\n",
    "ax.spines['right'].set_visible(False)\n",
    "ax.spines['left'].set_visible(False)\n",
    "\n",
    "# Turn on the X (vertical) gridlines\n",
    "ax.xaxis.grid(True)\n",
    "\n",
    "plt.tight_layout(True)"
   ]
  },
  {
   "cell_type": "markdown",
   "metadata": {},
   "source": [
    "There don't seem to be any obvious patterns that can be discerned here."
   ]
  },
  {
   "cell_type": "markdown",
   "metadata": {},
   "source": [
    "Create table for the paper that shows eprint %age and preprint %age for 2017"
   ]
  },
  {
   "cell_type": "code",
   "execution_count": 49,
   "metadata": {},
   "outputs": [
    {
     "data": {
      "text/html": [
       "<div>\n",
       "<style>\n",
       "    .dataframe thead tr:only-child th {\n",
       "        text-align: right;\n",
       "    }\n",
       "\n",
       "    .dataframe thead th {\n",
       "        text-align: left;\n",
       "    }\n",
       "\n",
       "    .dataframe tbody tr th {\n",
       "        vertical-align: top;\n",
       "    }\n",
       "</style>\n",
       "<table border=\"1\" class=\"dataframe\">\n",
       "  <thead>\n",
       "    <tr style=\"text-align: right;\">\n",
       "      <th></th>\n",
       "      <th>Papers</th>\n",
       "      <th>On Arxiv</th>\n",
       "      <th>On Arxiv (%)</th>\n",
       "    </tr>\n",
       "    <tr>\n",
       "      <th>venue</th>\n",
       "      <th></th>\n",
       "      <th></th>\n",
       "      <th></th>\n",
       "    </tr>\n",
       "  </thead>\n",
       "  <tbody>\n",
       "    <tr>\n",
       "      <th>ICML</th>\n",
       "      <td>427</td>\n",
       "      <td>278</td>\n",
       "      <td>0.651054</td>\n",
       "    </tr>\n",
       "    <tr>\n",
       "      <th>STOC</th>\n",
       "      <td>98</td>\n",
       "      <td>63</td>\n",
       "      <td>0.642857</td>\n",
       "    </tr>\n",
       "    <tr>\n",
       "      <th>SODA</th>\n",
       "      <td>182</td>\n",
       "      <td>103</td>\n",
       "      <td>0.565934</td>\n",
       "    </tr>\n",
       "    <tr>\n",
       "      <th>ACL</th>\n",
       "      <td>290</td>\n",
       "      <td>133</td>\n",
       "      <td>0.458621</td>\n",
       "    </tr>\n",
       "    <tr>\n",
       "      <th>EMNLP</th>\n",
       "      <td>303</td>\n",
       "      <td>123</td>\n",
       "      <td>0.405941</td>\n",
       "    </tr>\n",
       "  </tbody>\n",
       "</table>\n",
       "</div>"
      ],
      "text/plain": [
       "       Papers  On Arxiv  On Arxiv (%)\n",
       "venue                                \n",
       "ICML      427       278      0.651054\n",
       "STOC       98        63      0.642857\n",
       "SODA      182       103      0.565934\n",
       "ACL       290       133      0.458621\n",
       "EMNLP     303       123      0.405941"
      ]
     },
     "execution_count": 49,
     "metadata": {},
     "output_type": "execute_result"
    }
   ],
   "source": [
    "top17.head()"
   ]
  },
  {
   "cell_type": "code",
   "execution_count": 50,
   "metadata": {},
   "outputs": [
    {
     "data": {
      "text/plain": [
       "{'AAAI': 82,\n",
       " 'ACL': 26,\n",
       " 'CAV': 10,\n",
       " 'EMNLP': 45,\n",
       " 'ICML': 204,\n",
       " 'ICRA': 84,\n",
       " 'IJCAI': 51,\n",
       " 'KDD': 35,\n",
       " 'LICS': 22,\n",
       " 'POPL': 10,\n",
       " 'SIGIR': 0,\n",
       " 'SIGMOD': 8,\n",
       " 'SODA': 81,\n",
       " 'STOC': 49,\n",
       " 'WWW': 24}"
      ]
     },
     "execution_count": 50,
     "metadata": {},
     "output_type": "execute_result"
    }
   ],
   "source": [
    "num_preprints"
   ]
  },
  {
   "cell_type": "code",
   "execution_count": 51,
   "metadata": {},
   "outputs": [
    {
     "data": {
      "text/html": [
       "<div>\n",
       "<style>\n",
       "    .dataframe thead tr:only-child th {\n",
       "        text-align: right;\n",
       "    }\n",
       "\n",
       "    .dataframe thead th {\n",
       "        text-align: left;\n",
       "    }\n",
       "\n",
       "    .dataframe tbody tr th {\n",
       "        vertical-align: top;\n",
       "    }\n",
       "</style>\n",
       "<table border=\"1\" class=\"dataframe\">\n",
       "  <thead>\n",
       "    <tr style=\"text-align: right;\">\n",
       "      <th></th>\n",
       "      <th>Venue</th>\n",
       "      <th>Papers</th>\n",
       "      <th>e-prints</th>\n",
       "      <th>e-print (%)</th>\n",
       "      <th>Preprints</th>\n",
       "      <th>Preprint (%)</th>\n",
       "    </tr>\n",
       "  </thead>\n",
       "  <tbody>\n",
       "    <tr>\n",
       "      <th>0</th>\n",
       "      <td>ICML</td>\n",
       "      <td>427</td>\n",
       "      <td>278</td>\n",
       "      <td>65.105386</td>\n",
       "      <td>204</td>\n",
       "      <td>47.775176</td>\n",
       "    </tr>\n",
       "    <tr>\n",
       "      <th>1</th>\n",
       "      <td>STOC</td>\n",
       "      <td>98</td>\n",
       "      <td>63</td>\n",
       "      <td>64.285714</td>\n",
       "      <td>49</td>\n",
       "      <td>50.000000</td>\n",
       "    </tr>\n",
       "    <tr>\n",
       "      <th>2</th>\n",
       "      <td>SODA</td>\n",
       "      <td>182</td>\n",
       "      <td>103</td>\n",
       "      <td>56.593407</td>\n",
       "      <td>81</td>\n",
       "      <td>44.505495</td>\n",
       "    </tr>\n",
       "    <tr>\n",
       "      <th>3</th>\n",
       "      <td>ACL</td>\n",
       "      <td>290</td>\n",
       "      <td>133</td>\n",
       "      <td>45.862069</td>\n",
       "      <td>26</td>\n",
       "      <td>8.965517</td>\n",
       "    </tr>\n",
       "    <tr>\n",
       "      <th>4</th>\n",
       "      <td>EMNLP</td>\n",
       "      <td>303</td>\n",
       "      <td>123</td>\n",
       "      <td>40.594059</td>\n",
       "      <td>45</td>\n",
       "      <td>14.851485</td>\n",
       "    </tr>\n",
       "  </tbody>\n",
       "</table>\n",
       "</div>"
      ],
      "text/plain": [
       "   Venue  Papers  e-prints  e-print (%)  Preprints  Preprint (%)\n",
       "0   ICML     427       278    65.105386        204     47.775176\n",
       "1   STOC      98        63    64.285714         49     50.000000\n",
       "2   SODA     182       103    56.593407         81     44.505495\n",
       "3    ACL     290       133    45.862069         26      8.965517\n",
       "4  EMNLP     303       123    40.594059         45     14.851485"
      ]
     },
     "execution_count": 51,
     "metadata": {},
     "output_type": "execute_result"
    }
   ],
   "source": [
    "top17_mod = top17.drop(\"On Arxiv (%)\", axis=1)\n",
    "top17_mod = top17_mod.drop(\"PVLDB\", axis=0)\n",
    "for venue in top17_mod.index:\n",
    "    if venue not in num_preprints:\n",
    "        num_preprints[venue] = 0\n",
    "\n",
    "top17_paper = pd.concat((top17_mod, pd.Series(num_preprints)) , axis=1, join_axes=[top17_mod.index])\n",
    "top17_paper = top17_paper.reset_index()\n",
    "top17_paper.columns = [ \"Venue\", \"Papers\", \"e-prints\", \"Preprints\"]\n",
    "top17_paper[\"e-print (%)\"] = 100.0 * top17_paper[\"e-prints\"] / top17_paper['Papers']\n",
    "top17_paper[\"Preprint (%)\"] = 100.0 * top17_paper[\"Preprints\"] / top17_paper['Papers']\n",
    "top17_paper = top17_paper.loc[:, ['Venue', 'Papers', 'e-prints', 'e-print (%)', 'Preprints', 'Preprint (%)']]\n",
    "\n",
    "top17_paper.head()"
   ]
  },
  {
   "cell_type": "code",
   "execution_count": 52,
   "metadata": {
    "collapsed": true
   },
   "outputs": [],
   "source": [
    "with open(\"figures/top_venues.tex\", \"w\") as f:\n",
    "    f.write (top17_paper.to_latex(index=False, float_format=\"%.0f\", column_format=\"lrrrrr\"))"
   ]
  },
  {
   "cell_type": "markdown",
   "metadata": {},
   "source": [
    "Ah, but the table above might look better as a dotplot."
   ]
  },
  {
   "cell_type": "code",
   "execution_count": 53,
   "metadata": {},
   "outputs": [
    {
     "data": {
      "image/png": "[encoded data removed]",
      "text/plain": [
       "<matplotlib.figure.Figure at 0x11898d390>"
      ]
     },
     "metadata": {},
     "output_type": "display_data"
    }
   ],
   "source": [
    "# via https://acaird.github.io/2016/06/24/dotplots-with-matplotlib\n",
    "df = top17_paper.sort_values(by=[\"e-print (%)\"], ascending=False)\n",
    "ntopconf = len(df)\n",
    "\n",
    "# font size \n",
    "font = {'family' : 'serif',\n",
    "        'size'   : 14}\n",
    "matplotlib.rc('font', **font)\n",
    "\n",
    "# Get the plot aspect right for thinner bars that aren't too spread out\n",
    "fig, ax = plt.subplots(figsize=(12,6))\n",
    "ax.patch.set_visible(False)\n",
    "\n",
    "# Create the bars\n",
    "# The parameters are:\n",
    "#   - the number of bars for the y-axis\n",
    "#   - the values from the first column of data\n",
    "#   - the width of the bars out to the points\n",
    "#   - color = the color of the bars\n",
    "#   - edgecolor = the color of the bars' borders\n",
    "#   - alpha = the transparency of the bars\n",
    "for i in range(ntopconf):\n",
    "    plt.plot([df.loc[i, \"Preprint (%)\"], df.loc[i, \"e-print (%)\"]], [i,i], color='k', linestyle='-', alpha=0.8, linewidth=1)\n",
    "\n",
    "# Create the points using normal x-y scatter coordinates\n",
    "# The parameters are:\n",
    "#   - the x values from the first column of the data\n",
    "#   - the y values, which are just the indices of the data\n",
    "#   - the size of the points\n",
    "points = ax.scatter(df[\"Preprint (%)\"], range(ntopconf), s=30, color=\"blue\", alpha=0.5)\n",
    "points = ax.scatter(df[\"e-print (%)\"], range(ntopconf), s=30, color=\"blue\")\n",
    "\n",
    "\n",
    "ax.set_xlim([-1,71])\n",
    "ax.set_ylim([-0.5, ntopconf])\n",
    "ax.set_yticks(range(ntopconf))\n",
    "ax.set_yticklabels(df[\"Venue\"])\n",
    "\n",
    "# Turn off all of the borders\n",
    "ax.spines['top'].set_visible(False)\n",
    "ax.spines['bottom'].set_visible(True)\n",
    "ax.spines['right'].set_visible(False)\n",
    "ax.spines['left'].set_visible(False)\n",
    "\n",
    "# Turn on the X (vertical) gridlines\n",
    "ax.xaxis.grid (color='k', linestyle='dotted', alpha=0.2)\n",
    "\n",
    "\n",
    "plt.tight_layout(True)\n",
    "plt.savefig(\"figures/preprint_dotplot.pdf\", format=\"pdf\")"
   ]
  },
  {
   "cell_type": "markdown",
   "metadata": {
    "collapsed": true
   },
   "source": [
    "# Table of all areas and venues considered\n",
    "\n",
    "This is generated here so it can reflect some of the modifications to the venues list that we've done over the course of this notebook.\n",
    "\n",
    "The `v2a` map was created above, while we were preparing to create the venue dotplot."
   ]
  },
  {
   "cell_type": "code",
   "execution_count": 54,
   "metadata": {
    "collapsed": true
   },
   "outputs": [],
   "source": [
    "a2v_str = [ dict([ ('Area', config.labeldict[a]), ('Conferences', \", \".join(venues)) ]) for a,venues in a2v.items() ]"
   ]
  },
  {
   "cell_type": "code",
   "execution_count": 55,
   "metadata": {},
   "outputs": [
    {
     "data": {
      "text/plain": [
       "[{'Area': 'Visualization', 'Conferences': 'IEEE VIS + VR'},\n",
       " {'Area': 'Graphics', 'Conferences': 'SIGGRAPH (+Asia)'},\n",
       " {'Area': 'Databases', 'Conferences': 'PVLDB, SIGMOD'},\n",
       " {'Area': 'NLP', 'Conferences': 'ACL, HLT-NAACL, EMNLP'},\n",
       " {'Area': 'Robotics', 'Conferences': 'RSS, ICRA, IROS'},\n",
       " {'Area': 'High performance computing', 'Conferences': 'SC, ICS, HPDC'},\n",
       " {'Area': 'Mobile computing', 'Conferences': 'MobiSys, MobiCom, SenSys'},\n",
       " {'Area': 'Security', 'Conferences': 'CCS, IEEE S&P, USENIX Security'},\n",
       " {'Area': 'Measurement', 'Conferences': 'SIGMETRICS, IMC'},\n",
       " {'Area': 'Programming languages', 'Conferences': 'POPL, PLDI'},\n",
       " {'Area': 'Operating systems', 'Conferences': 'USENIX, SOSP/OSDI, EuroSys'},\n",
       " {'Area': 'Networking', 'Conferences': 'NSDI, INFOCOM, SIGCOMM'},\n",
       " {'Area': 'HCI', 'Conferences': 'UbiComp, CHI, UIST'},\n",
       " {'Area': 'Computer architectures', 'Conferences': 'MICRO, ISCA, ASPLOS'},\n",
       " {'Area': 'Embedding systems', 'Conferences': 'RTSS, RTAS, EMSOFT'},\n",
       " {'Area': 'Logic and verification', 'Conferences': 'CAV, LICS'},\n",
       " {'Area': 'Software engineering', 'Conferences': 'ASE, ICSE, FSE'},\n",
       " {'Area': 'Artificial intelligence', 'Conferences': 'AAAI, IJCAI'},\n",
       " {'Area': 'Information retrieval', 'Conferences': 'WWW, SIGIR'},\n",
       " {'Area': 'Design automation', 'Conferences': 'DAC, ICCAD'},\n",
       " {'Area': 'Algorithms and complexity', 'Conferences': 'STOC, SODA, FOCS'},\n",
       " {'Area': 'Data mining', 'Conferences': 'KDD'},\n",
       " {'Area': 'Machine learning', 'Conferences': 'NIPS, ICML'},\n",
       " {'Area': 'Vision', 'Conferences': 'ECCV, CVPR, ICCV'},\n",
       " {'Area': 'Cryptography', 'Conferences': 'EUROCRYPT, CRYPTO'}]"
      ]
     },
     "execution_count": 55,
     "metadata": {},
     "output_type": "execute_result"
    }
   ],
   "source": [
    "a2v_str"
   ]
  },
  {
   "cell_type": "code",
   "execution_count": 56,
   "metadata": {},
   "outputs": [
    {
     "data": {
      "text/html": [
       "<div>\n",
       "<style>\n",
       "    .dataframe thead tr:only-child th {\n",
       "        text-align: right;\n",
       "    }\n",
       "\n",
       "    .dataframe thead th {\n",
       "        text-align: left;\n",
       "    }\n",
       "\n",
       "    .dataframe tbody tr th {\n",
       "        vertical-align: top;\n",
       "    }\n",
       "</style>\n",
       "<table border=\"1\" class=\"dataframe\">\n",
       "  <thead>\n",
       "    <tr style=\"text-align: right;\">\n",
       "      <th></th>\n",
       "      <th>Area</th>\n",
       "      <th>Conferences</th>\n",
       "    </tr>\n",
       "  </thead>\n",
       "  <tbody>\n",
       "    <tr>\n",
       "      <th>20</th>\n",
       "      <td>Algorithms and complexity</td>\n",
       "      <td>STOC, SODA, FOCS</td>\n",
       "    </tr>\n",
       "    <tr>\n",
       "      <th>17</th>\n",
       "      <td>Artificial intelligence</td>\n",
       "      <td>AAAI, IJCAI</td>\n",
       "    </tr>\n",
       "    <tr>\n",
       "      <th>13</th>\n",
       "      <td>Computer architectures</td>\n",
       "      <td>MICRO, ISCA, ASPLOS</td>\n",
       "    </tr>\n",
       "    <tr>\n",
       "      <th>24</th>\n",
       "      <td>Cryptography</td>\n",
       "      <td>EUROCRYPT, CRYPTO</td>\n",
       "    </tr>\n",
       "    <tr>\n",
       "      <th>21</th>\n",
       "      <td>Data mining</td>\n",
       "      <td>KDD</td>\n",
       "    </tr>\n",
       "  </tbody>\n",
       "</table>\n",
       "</div>"
      ],
      "text/plain": [
       "                         Area          Conferences\n",
       "20  Algorithms and complexity     STOC, SODA, FOCS\n",
       "17    Artificial intelligence          AAAI, IJCAI\n",
       "13     Computer architectures  MICRO, ISCA, ASPLOS\n",
       "24               Cryptography    EUROCRYPT, CRYPTO\n",
       "21                Data mining                  KDD"
      ]
     },
     "execution_count": 56,
     "metadata": {},
     "output_type": "execute_result"
    }
   ],
   "source": [
    "area_conference_df = pd.DataFrame.from_dict(a2v_str)\n",
    "area_conference_df = area_conference_df.sort_values(\"Area\", axis=0)\n",
    "area_conference_df.head()"
   ]
  },
  {
   "cell_type": "code",
   "execution_count": 57,
   "metadata": {
    "collapsed": true
   },
   "outputs": [],
   "source": [
    "with open(\"figures/area_conference_list.tex\", \"w\") as f:\n",
    "    f.write (area_conference_df.to_latex(index=False))"
   ]
  },
  {
   "cell_type": "markdown",
   "metadata": {},
   "source": [
    "# Total number of conferences and areas considered"
   ]
  },
  {
   "cell_type": "markdown",
   "metadata": {},
   "source": [
    "We consider 60 conferences over 25 subareas of computing."
   ]
  },
  {
   "cell_type": "code",
   "execution_count": 64,
   "metadata": {},
   "outputs": [
    {
     "name": "stdout",
     "output_type": "stream",
     "text": [
      "60 25 17\n"
     ]
    }
   ],
   "source": [
    "nconf = len(v2a.keys())\n",
    "narea = len(a2v.keys())\n",
    "ntopconf = len(top17_paper)\n",
    "print (nconf, narea, ntopconf)"
   ]
  },
  {
   "cell_type": "markdown",
   "metadata": {},
   "source": [
    "In fact the number of conferences considered is three more than reported above. The reason is:\n",
    "\n",
    " * The number above counts SIGGRAPH and SIGGRAPH-Asia as one conference.\n",
    " * The number above counts IEEE VIS and IEEE VR as one conference.\n",
    " * The number above counts SOSP and OSDI as one conference.\n",
    " \n",
    "So we add three.\n"
   ]
  },
  {
   "cell_type": "code",
   "execution_count": 65,
   "metadata": {
    "collapsed": true
   },
   "outputs": [],
   "source": [
    "nconf += 3"
   ]
  },
  {
   "cell_type": "code",
   "execution_count": 66,
   "metadata": {
    "collapsed": true
   },
   "outputs": [],
   "source": [
    "cmdstring = \\\n",
    "'''\\\\newcommand{{\\\\nconf}}{{{}\\\\xspace}}\n",
    "\\\\newcommand{{\\\\narea}}{{{}\\\\xspace}}\n",
    "\\\\newcommand{{\\\\ntopconf}}{{{}\\\\xspace}}\n",
    "'''\n",
    "    \n",
    "with open(\"figures/data_size.tex\", \"w\") as f:\n",
    "    f.write (cmdstring.format (nconf, narea, ntopconf))"
   ]
  },
  {
   "cell_type": "code",
   "execution_count": null,
   "metadata": {
    "collapsed": true
   },
   "outputs": [],
   "source": []
  }
 ],
 "metadata": {
  "kernelspec": {
   "display_name": "Python 3",
   "language": "python",
   "name": "python3"
  },
  "language_info": {
   "codemirror_mode": {
    "name": "ipython",
    "version": 3
   },
   "file_extension": ".py",
   "mimetype": "text/x-python",
   "name": "python",
   "nbconvert_exporter": "python",
   "pygments_lexer": "ipython3",
   "version": "3.6.2"
  },
  "toc": {
   "nav_menu": {},
   "number_sections": true,
   "sideBar": true,
   "skip_h1_title": false,
   "toc_cell": true,
   "toc_position": {},
   "toc_section_display": "block",
   "toc_window_display": false
  }
 },
 "nbformat": 4,
 "nbformat_minor": 2
}
